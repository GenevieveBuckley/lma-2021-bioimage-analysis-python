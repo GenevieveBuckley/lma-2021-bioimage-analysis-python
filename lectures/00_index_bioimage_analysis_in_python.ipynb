{
 "cells": [
  {
   "cell_type": "markdown",
   "metadata": {},
   "source": [
    "# Bioimage analysis fundamentals in Python\n",
    "\n",
    "## with scikit-image, napari, dask, & friends\n",
    "\n",
    "### schedule\n",
    "\n",
    "- 1-1:50 -- introductions + [images are numpy_arrays](0_images_are_arrays.ipynb)\n",
    "- 1:50-2 -- **break**\n",
    "- 2-3 -- [filtering from scratch in scikit-image](1_image_filters.ipynb)\n",
    "- 3-3:30 -- **break**\n",
    "- 3:30-4:20 -- [interactive segmentation and regionprops with napari](2_segmentation_and_regionprops.ipynb)\n",
    "- 4:20-4:30 -- **break**\n",
    "- 4:30-5:15 -- [out-of-core processing and vis with dask](3_dask.ipynb)\n",
    "- 5:15-6 -- [discussion, Q&A, social](4_discussion_session.ipynb)"
   ]
  }
 ],
 "metadata": {
  "kernelspec": {
   "display_name": "Python 3 (ipykernel)",
   "language": "python",
   "name": "python3"
  },
  "language_info": {
   "codemirror_mode": {
    "name": "ipython",
    "version": 3
   },
   "file_extension": ".py",
   "mimetype": "text/x-python",
   "name": "python",
   "nbconvert_exporter": "python",
   "pygments_lexer": "ipython3",
   "version": "3.9.6"
  }
 },
 "nbformat": 4,
 "nbformat_minor": 4
}
