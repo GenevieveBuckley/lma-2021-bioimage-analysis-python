{
 "cells": [
  {
   "cell_type": "markdown",
   "metadata": {},
   "source": [
    "# Bioimage analysis fundamentals in Python\n",
    "\n",
    "## with scikit-image, napari, dask, & friends\n",
    "\n",
    "### schedule\n",
    "\n",
    "- intro: 10min\n",
    "- [filtering from scratch in scikit-image](1_image_filters.ipynb): 70min\n",
    "- break: 10min\n",
    "- [interactive segmentation and regionprops with napari](2_segmentation_and_regionprops.ipynb): 70min\n",
    "- break: 30min\n",
    "- [out-of-core processing and vis with dask](3_dask.ipynb): 30min\n",
    "- [discussion, Q&A](4_discussion_session.ipynb): 20min"
   ]
  }
 ],
 "metadata": {
  "kernelspec": {
   "display_name": "Python 3 (ipykernel)",
   "language": "python",
   "name": "python3"
  },
  "language_info": {
   "codemirror_mode": {
    "name": "ipython",
    "version": 3
   },
   "file_extension": ".py",
   "mimetype": "text/x-python",
   "name": "python",
   "nbconvert_exporter": "python",
   "pygments_lexer": "ipython3",
   "version": "3.8.10"
  }
 },
 "nbformat": 4,
 "nbformat_minor": 4
}
