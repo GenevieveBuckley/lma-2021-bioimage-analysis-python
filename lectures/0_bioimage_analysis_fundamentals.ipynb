{
 "cells": [
  {
   "cell_type": "markdown",
   "source": [
    "# Bioimage analysis fundamentals in Python\n",
    "\n",
    "## with scikit-image, napari, & friends\n",
    "\n",
    "### schedule\n",
    "\n",
    "- Intro: 10min\n",
    "- [filtering from scratch](1_image_filters.ipynb): 50min\n",
    "- break: 15min\n",
    "- [interactive segmentation and regionprops](2_segmentation_and_regionprops.ipynb): 50min\n",
    "- break: 30min\n",
    "- [out-of-core processing and vis with dask](3_dask.ipynb): 50min\n",
    "- break: 15min\n",
    "- discussion, Q&A ([session 1](4_discussion_session.ipynb): 50min"
   ],
   "metadata": {}
  }
 ],
 "metadata": {
  "kernelspec": {
   "display_name": "Python 3 (ipykernel)",
   "language": "python",
   "name": "python3"
  },
  "language_info": {
   "codemirror_mode": {
    "name": "ipython",
    "version": 3
   },
   "file_extension": ".py",
   "mimetype": "text/x-python",
   "name": "python",
   "nbconvert_exporter": "python",
   "pygments_lexer": "ipython3",
   "version": "3.8.10"
  }
 },
 "nbformat": 4,
 "nbformat_minor": 4
}